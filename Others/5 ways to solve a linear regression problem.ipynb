{
 "cells": [
  {
   "cell_type": "markdown",
   "metadata": {},
   "source": [
    "# Introduction"
   ]
  },
  {
   "cell_type": "code",
   "execution_count": 1,
   "metadata": {},
   "outputs": [
    {
     "data": {
      "text/plain": [
       "'\\nWhat? An example if linear regression via normal equation, QR decomposition, SVD with pseudo inverse\\nand using the bulti-in function lstsq\\n\\n\\nRevision No: 2\\nLast revised: 06/02/21\\nReferences:\\nGLM\\n'"
      ]
     },
     "execution_count": 1,
     "metadata": {},
     "output_type": "execute_result"
    }
   ],
   "source": [
    "\"\"\"\n",
    "What? 5 ways to solve a linear regression problem\n",
    "\n",
    "An example of linear regression via normal equation, QR decomposition, SVD with pseudo inverse,\n",
    "lstsq and sklearn linear regression\n",
    "\"\"\""
   ]
  },
  {
   "cell_type": "markdown",
   "metadata": {},
   "source": [
    "# Import python modules"
   ]
  },
  {
   "cell_type": "code",
   "execution_count": 2,
   "metadata": {},
   "outputs": [],
   "source": [
    "from numpy import array, dot\n",
    "from numpy.linalg import inv, qr, pinv, lstsq\n",
    "from matplotlib import pyplot"
   ]
  },
  {
   "cell_type": "code",
   "execution_count": 3,
   "metadata": {},
   "outputs": [
    {
     "name": "stdout",
     "output_type": "stream",
     "text": [
      "[[0.05 0.12]\n",
      " [0.18 0.22]\n",
      " [0.31 0.35]\n",
      " [0.42 0.38]\n",
      " [0.5  0.49]]\n"
     ]
    },
    {
     "data": {
      "image/png": "[encoded data removed]",
      "text/plain": [
       "<Figure size 432x288 with 1 Axes>"
      ]
     },
     "metadata": {
      "needs_background": "light"
     },
     "output_type": "display_data"
    }
   ],
   "source": [
    "# define dataset\n",
    "data = array([\n",
    "  [0.05, 0.12],\n",
    "  [0.18, 0.22],\n",
    "  [0.31, 0.35],\n",
    "  [0.42, 0.38],\n",
    "  [0.5, 0.49]])\n",
    "print(data)\n",
    "# split into inputs and outputs\n",
    "X, y = data[:,0], data[:,1]\n",
    "X = X.reshape((len(X), 1))\n",
    "# scatter plot\n",
    "pyplot.scatter(X, y)\n",
    "pyplot.show()"
   ]
  },
  {
   "cell_type": "markdown",
   "metadata": {},
   "source": [
    "# [1] linear least squares SOLVED DIRECTLY == normal equation"
   ]
  },
  {
   "cell_type": "code",
   "execution_count": 4,
   "metadata": {},
   "outputs": [
    {
     "name": "stdout",
     "output_type": "stream",
     "text": [
      "Coefficient found via dirct inversion of the least squares:  [1.00233226]\n"
     ]
    },
    {
     "data": {
      "image/png": "[encoded data removed]",
      "text/plain": [
       "<Figure size 432x288 with 1 Axes>"
      ]
     },
     "metadata": {
      "needs_background": "light"
     },
     "output_type": "display_data"
    }
   ],
   "source": [
    "b = inv(X.T.dot(X)).dot(X.T).dot(y)\n",
    "print(\"Coefficient found via dirct inversion of the least squares: \", b)\n",
    "# predict using coefficients\n",
    "yhat = dot(X,b) # equivalenty -> X.dot(b)\n",
    "# plot data and predictions\n",
    "pyplot.scatter(X, y) \n",
    "pyplot.plot(X, yhat, color='red') \n",
    "pyplot.show()"
   ]
  },
  {
   "cell_type": "markdown",
   "metadata": {},
   "source": [
    "# [2] solving it using QR decomposition"
   ]
  },
  {
   "cell_type": "code",
   "execution_count": 5,
   "metadata": {},
   "outputs": [
    {
     "data": {
      "text/plain": [
       "'\\nThe QR decomposition approach is more computationally efficient and \\nmore numerically stable than calculating the normal equation directly, \\nbut does not work for all data matrices.\\n'"
      ]
     },
     "execution_count": 5,
     "metadata": {},
     "output_type": "execute_result"
    }
   ],
   "source": [
    "\"\"\"\n",
    "The QR decomposition approach is more computationally efficient and \n",
    "more numerically stable than calculating the normal equation directly, \n",
    "but does not work for all data matrices.\n",
    "\"\"\""
   ]
  },
  {
   "cell_type": "code",
   "execution_count": 6,
   "metadata": {},
   "outputs": [
    {
     "name": "stdout",
     "output_type": "stream",
     "text": [
      "Coefficient found via QR decomposition:  [1.00233226]\n"
     ]
    },
    {
     "data": {
      "image/png": "[encoded data removed]",
      "text/plain": [
       "<Figure size 432x288 with 1 Axes>"
      ]
     },
     "metadata": {
      "needs_background": "light"
     },
     "output_type": "display_data"
    }
   ],
   "source": [
    "X = X.reshape((len(X), 1))\n",
    "# factorize\n",
    "Q, R = qr(X)\n",
    "b = inv(R).dot(Q.T).dot(y) \n",
    "print(\"Coefficient found via QR decomposition: \", b)\n",
    "# predict using coefficients\n",
    "yhat = X.dot(b)\n",
    "# plot data and predictions \n",
    "pyplot.scatter(X, y) \n",
    "pyplot.plot(X, yhat, color='red')\n",
    "pyplot.show()"
   ]
  },
  {
   "cell_type": "markdown",
   "metadata": {},
   "source": [
    "# [3] Solving via SVD and pseudo-inverse"
   ]
  },
  {
   "cell_type": "code",
   "execution_count": 7,
   "metadata": {},
   "outputs": [
    {
     "data": {
      "text/plain": [
       "'\\nUnlike the QR decomposition, all matrices have a singular-value decomposition. \\nIt is the de-facto standard for solving the system of linear equations for linear regressio., \\nSVD is more stable and the preferred approach.\\n'"
      ]
     },
     "execution_count": 7,
     "metadata": {},
     "output_type": "execute_result"
    }
   ],
   "source": [
    "\"\"\"\n",
    "Unlike the QR decomposition, all matrices have a singular-value decomposition. \n",
    "It is the de-facto standard for solving the system of linear equations for linear regressio., \n",
    "SVD is more stable and the preferred approach.\n",
    "\"\"\""
   ]
  },
  {
   "cell_type": "code",
   "execution_count": 8,
   "metadata": {},
   "outputs": [
    {
     "name": "stdout",
     "output_type": "stream",
     "text": [
      "Coefficient found via SVD decomposition and pseudo inverse:  [1.00233226]\n"
     ]
    },
    {
     "data": {
      "image/png": "[encoded data removed]",
      "text/plain": [
       "<Figure size 432x288 with 1 Axes>"
      ]
     },
     "metadata": {
      "needs_background": "light"
     },
     "output_type": "display_data"
    }
   ],
   "source": [
    "X = X.reshape((len(X), 1))\n",
    "# calculate coefficients\n",
    "b = pinv(X).dot(y)\n",
    "print(\"Coefficient found via SVD decomposition and pseudo inverse: \", b)\n",
    "# predict using coefficients\n",
    "yhat = X.dot(b)\n",
    "# plot data and predictions \n",
    "pyplot.scatter(X, y) \n",
    "pyplot.plot(X, yhat, color='red') \n",
    "pyplot.show()"
   ]
  },
  {
   "cell_type": "markdown",
   "metadata": {},
   "source": [
    "# [4] Using numpy lstsq"
   ]
  },
  {
   "cell_type": "code",
   "execution_count": 9,
   "metadata": {},
   "outputs": [
    {
     "name": "stdout",
     "output_type": "stream",
     "text": [
      "Coefficient found via numpy lstsq [1.00233226]\n"
     ]
    },
    {
     "data": {
      "image/png": "[encoded data removed]",
      "text/plain": [
       "<Figure size 432x288 with 1 Axes>"
      ]
     },
     "metadata": {
      "needs_background": "light"
     },
     "output_type": "display_data"
    }
   ],
   "source": [
    "X = X.reshape((len(X), 1))\n",
    "# calculate coefficients\n",
    "b, residuals, rank, s = lstsq(X, y, rcond = -1) \n",
    "print(\"Coefficient found via numpy lstsq\", b)\n",
    "# predict using coefficients\n",
    "yhat = X.dot(b)\n",
    "# plot data and prediction\n",
    "pyplot.scatter(X, y)\n",
    "pyplot.plot(X, yhat, color='red') \n",
    "pyplot.show()"
   ]
  },
  {
   "cell_type": "markdown",
   "metadata": {},
   "source": [
    "# [5] Using skleanr linear regression"
   ]
  },
  {
   "cell_type": "code",
   "execution_count": 10,
   "metadata": {},
   "outputs": [
    {
     "name": "stdout",
     "output_type": "stream",
     "text": [
      "[0.78715288] 0.08215135794934386\n"
     ]
    }
   ],
   "source": [
    "from sklearn.linear_model import LinearRegression\n",
    "sklinreg = LinearRegression()\n",
    "sklinreg.fit(X, y)\n",
    "a = sklinreg.coef_\n",
    "b = sklinreg.intercept_\n",
    "print(a,b)"
   ]
  },
  {
   "cell_type": "code",
   "execution_count": 12,
   "metadata": {},
   "outputs": [
    {
     "data": {
      "image/png": "[encoded data removed]",
      "text/plain": [
       "<Figure size 432x288 with 1 Axes>"
      ]
     },
     "metadata": {
      "needs_background": "light"
     },
     "output_type": "display_data"
    }
   ],
   "source": [
    "# plot data and prediction\n",
    "import numpy as np\n",
    "xx = np.linspace(0,0.5,10)\n",
    "yy = a*xx+b \n",
    "pyplot.scatter(X, y)\n",
    "pyplot.plot(xx, yy, color='red') \n",
    "pyplot.show()"
   ]
  },
  {
   "cell_type": "code",
   "execution_count": null,
   "metadata": {},
   "outputs": [],
   "source": []
  }
 ],
 "metadata": {
  "hide_input": false,
  "kernelspec": {
   "display_name": "trainingAI",
   "language": "python",
   "name": "trainingai"
  },
  "language_info": {
   "codemirror_mode": {
    "name": "ipython",
    "version": 3
   },
   "file_extension": ".py",
   "mimetype": "text/x-python",
   "name": "python",
   "nbconvert_exporter": "python",
   "pygments_lexer": "ipython3",
   "version": "3.8.5"
  }
 },
 "nbformat": 4,
 "nbformat_minor": 2
}
