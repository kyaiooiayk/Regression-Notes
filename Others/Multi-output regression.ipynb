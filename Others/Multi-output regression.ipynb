{
 "cells": [
  {
   "cell_type": "markdown",
   "id": "aac936fb",
   "metadata": {},
   "source": [
    "# Introduction\n",
    "<hr style = \"border:2px solid black\" ></hr>"
   ]
  },
  {
   "cell_type": "markdown",
   "id": "956a2634",
   "metadata": {},
   "source": [
    "<div class=\"alert alert-warning\">\n",
    "<font color=black>\n",
    "\n",
    "**What?** Multi-output regression\n",
    "\n",
    "</font>\n",
    "</div>"
   ]
  },
  {
   "cell_type": "markdown",
   "id": "ecac3fa7",
   "metadata": {},
   "source": [
    "# Imports\n",
    "<hr style = \"border:2px solid black\" ></hr>"
   ]
  },
  {
   "cell_type": "code",
   "execution_count": 12,
   "id": "119d20da",
   "metadata": {
    "ExecuteTime": {
     "end_time": "2022-07-26T20:03:05.603236Z",
     "start_time": "2022-07-26T20:03:05.599561Z"
    }
   },
   "outputs": [],
   "source": [
    "from sklearn.datasets import make_regression\n",
    "from sklearn.linear_model import LinearRegression\n",
    "from sklearn.neighbors import KNeighborsRegressor\n",
    "from sklearn.tree import DecisionTreeRegressor\n",
    "from sklearn.multioutput import MultiOutputRegressor\n",
    "from sklearn.svm import LinearSVR\n",
    "from sklearn.multioutput import RegressorChain"
   ]
  },
  {
   "cell_type": "markdown",
   "id": "59afb56f",
   "metadata": {},
   "source": [
    "# Theoretical recalls\n",
    "<hr style = \"border:2px solid black\" ></hr>"
   ]
  },
  {
   "cell_type": "markdown",
   "id": "baa2139b",
   "metadata": {},
   "source": [
    "<div class=\"alert alert-info\">\n",
    "<font color=black>\n",
    "    \n",
    "- In multioutput regression, typically the outputs are dependent upon the input and upon each other. This means that often the outputs **are not independent** of each other and may require a model that predicts both outputs together or each output contingent upon the other outputs.\n",
    "\n",
    "- Multi-step time series forecasting **may be considered** a type of multiple-output regression where a sequence of future values are predicted and each predicted value is dependent upon the prior values in the sequence.\n",
    "    \n",
    "- **If outputs may be correlated, why would anyone use a regressor for each target?** Building a regressor for each target assumes that the outputs are independent of each other, which might not be a correct assumption. **Nevertheless**, this approach can be effective predictions on a range of problems and may be worth trying, at least as a performance baseline. If the target are mostly independent, this strategy can help you find out.\n",
    "\n",
    "</font>\n",
    "</div>"
   ]
  },
  {
   "cell_type": "markdown",
   "id": "fda658cc",
   "metadata": {},
   "source": [
    "# Create dummy dataset\n",
    "<hr style = \"border:2px solid black\" ></hr>"
   ]
  },
  {
   "cell_type": "code",
   "execution_count": 2,
   "id": "cd1d2d8f",
   "metadata": {
    "ExecuteTime": {
     "end_time": "2022-07-26T19:47:33.886932Z",
     "start_time": "2022-07-26T19:47:33.882181Z"
    }
   },
   "outputs": [
    {
     "name": "stdout",
     "output_type": "stream",
     "text": [
      "(1000, 10) (1000, 2)\n"
     ]
    }
   ],
   "source": [
    "X, y = make_regression(n_samples=1000, n_features=10,\n",
    "                       n_informative=5, n_targets=2, random_state=1, noise=0.5)\n",
    "\n",
    "print(X.shape, y.shape)"
   ]
  },
  {
   "cell_type": "markdown",
   "id": "e30d8d56",
   "metadata": {},
   "source": [
    "# Linear Regression for Multioutput Regression\n",
    "<hr style = \"border:2px solid black\" ></hr>"
   ]
  },
  {
   "cell_type": "markdown",
   "id": "ab42dbf5",
   "metadata": {},
   "source": [
    "<div class=\"alert alert-info\">\n",
    "<font color=black>\n",
    "\n",
    "- Some regression machine learning algorithms support multiple outputs **directly**. \n",
    "- This means we need no wrapper where each target is assigned a single regressor.\n",
    "- These includel:\n",
    "\n",
    "    - [x] LinearRegression\n",
    "    - [ ] KNeighborsRegressor\n",
    "    - [ ] DecisionTreeRegressor\n",
    "    - [ ] RandomForestRegressor\n",
    "\n",
    "</font>\n",
    "</div>"
   ]
  },
  {
   "cell_type": "code",
   "execution_count": 4,
   "id": "9f134620",
   "metadata": {
    "ExecuteTime": {
     "end_time": "2022-07-26T19:51:49.055790Z",
     "start_time": "2022-07-26T19:51:49.042690Z"
    }
   },
   "outputs": [
    {
     "name": "stdout",
     "output_type": "stream",
     "text": [
      "[50.06781717 64.564973  ]\n"
     ]
    }
   ],
   "source": [
    "# Instantiate the model\n",
    "model = LinearRegression()\n",
    "\n",
    "# fit model\n",
    "model.fit(X, y)\n",
    "\n",
    "# make a prediction\n",
    "row = [0.21947749, 0.32948997, 0.81560036, 0.440956, -0.0606303, -\n",
    "       0.29257894, -0.2820059, -0.00290545, 0.96402263, 0.04992249]\n",
    "yhat = model.predict([row])\n",
    "\n",
    "# summarize prediction\n",
    "print(yhat[0])"
   ]
  },
  {
   "cell_type": "markdown",
   "id": "86328d76",
   "metadata": {},
   "source": [
    "# k-Nearest Neighbors for Multioutput Regression\n",
    "<hr style = \"border:2px solid black\" ></hr>"
   ]
  },
  {
   "cell_type": "markdown",
   "id": "c5ce86c4",
   "metadata": {},
   "source": [
    "<div class=\"alert alert-info\">\n",
    "<font color=black>\n",
    "\n",
    "- Some regression machine learning algorithms support multiple outputs **directly**. \n",
    "- This means we need no wrapper where each target is assigned a single regressor.\n",
    "- These includel:\n",
    "\n",
    "    - [ ] LinearRegression\n",
    "    - [x] KNeighborsRegressor\n",
    "    - [ ] DecisionTreeRegressor\n",
    "    - [ ] RandomForestRegressor\n",
    "\n",
    "</font>\n",
    "</div>"
   ]
  },
  {
   "cell_type": "code",
   "execution_count": 6,
   "id": "2d8dbed5",
   "metadata": {
    "ExecuteTime": {
     "end_time": "2022-07-26T19:53:28.664858Z",
     "start_time": "2022-07-26T19:53:28.652845Z"
    }
   },
   "outputs": [
    {
     "name": "stdout",
     "output_type": "stream",
     "text": [
      "[-11.73511093  52.78406297]\n"
     ]
    }
   ],
   "source": [
    "# create datasets\n",
    "X, y = make_regression(n_samples=1000, n_features=10,\n",
    "                       n_informative=5, n_targets=2, random_state=1, noise=0.5)\n",
    "\n",
    "# define model\n",
    "model = KNeighborsRegressor()\n",
    "\n",
    "# fit model\n",
    "model.fit(X, y)\n",
    "\n",
    "# make a prediction\n",
    "row = [0.21947749, 0.32948997, 0.81560036, 0.440956, -0.0606303, -\n",
    "       0.29257894, -0.2820059, -0.00290545, 0.96402263, 0.04992249]\n",
    "yhat = model.predict([row])\n",
    "\n",
    "# summarize prediction\n",
    "print(yhat[0])"
   ]
  },
  {
   "cell_type": "markdown",
   "id": "83d2bfd6",
   "metadata": {},
   "source": [
    "# Decision Tree for Multioutput Regression\n",
    "<hr style = \"border:2px solid black\" ></hr>"
   ]
  },
  {
   "cell_type": "markdown",
   "id": "0793394f",
   "metadata": {},
   "source": [
    "<div class=\"alert alert-info\">\n",
    "<font color=black>\n",
    "\n",
    "- Some regression machine learning algorithms support multiple outputs **directly**. \n",
    "- This means we need no wrapper where each target is assigned a single regressor.\n",
    "- These includel:\n",
    "\n",
    "    - [ ] LinearRegression\n",
    "    - [ ] KNeighborsRegressor\n",
    "    - [x] DecisionTreeRegressor\n",
    "    - [ ] RandomForestRegressor\n",
    "\n",
    "</font>\n",
    "</div>"
   ]
  },
  {
   "cell_type": "code",
   "execution_count": null,
   "id": "ec0b4925",
   "metadata": {},
   "outputs": [],
   "source": [
    "# define model\n",
    "model = DecisionTreeRegressor()\n",
    "\n",
    "# fit model\n",
    "model.fit(X, y)\n",
    "\n",
    "# make a prediction\n",
    "row = [0.21947749, 0.32948997, 0.81560036, 0.440956, -0.0606303, -\n",
    "       0.29257894, -0.2820059, -0.00290545, 0.96402263, 0.04992249]\n",
    "yhat = model.predict([row])\n",
    "\n",
    "# summarize prediction\n",
    "print(yhat[0])"
   ]
  },
  {
   "cell_type": "markdown",
   "id": "2f66dba5",
   "metadata": {},
   "source": [
    "# SVR\n",
    "<hr style = \"border:2px solid black\" ></hr>"
   ]
  },
  {
   "cell_type": "markdown",
   "id": "30e713c3",
   "metadata": {},
   "source": [
    "<div class=\"alert alert-info\">\n",
    "<font color=black>\n",
    "\n",
    "- Not all regression algorithms support multioutput regression and this is the case for SVR.port vector regression, or SVR.\n",
    "- There are two main approaches to implementing this technique:\n",
    "    - **Direct Multioutput**: fit an independent model for each target.\n",
    "    - **Chained Multioutput**: Develop a sequence of dependent models to match the number of numerical values to be predicted. The first model in the sequence uses the input and predicts one output; the second model uses the input and the output from the first model to make a prediction; the third model uses the input and output from the first two models to make a prediction, and so on.\n",
    "\n",
    "</font>\n",
    "</div>"
   ]
  },
  {
   "cell_type": "markdown",
   "id": "d3124ac7",
   "metadata": {},
   "source": [
    "## Direct multiouput"
   ]
  },
  {
   "cell_type": "code",
   "execution_count": 9,
   "id": "1e784b75",
   "metadata": {
    "ExecuteTime": {
     "end_time": "2022-07-26T20:01:10.447657Z",
     "start_time": "2022-07-26T20:01:10.421542Z"
    }
   },
   "outputs": [
    {
     "name": "stdout",
     "output_type": "stream",
     "text": [
      "Predicted: [50.02804639 64.51260413]\n"
     ]
    }
   ],
   "source": [
    "# define base model\n",
    "model = LinearSVR()\n",
    "\n",
    "# define the direct multioutput wrapper model\n",
    "wrapper = MultiOutputRegressor(model)\n",
    "\n",
    "# fit the model on the whole dataset\n",
    "wrapper.fit(X, y)\n",
    "\n",
    "# make a single prediction\n",
    "row = [0.21947749, 0.32948997, 0.81560036, 0.440956, -0.0606303, -\n",
    "       0.29257894, -0.2820059, -0.00290545, 0.96402263, 0.04992249]\n",
    "\n",
    "yhat = wrapper.predict([row])\n",
    "# summarize the prediction\n",
    "print('Predicted: %s' % yhat[0])"
   ]
  },
  {
   "cell_type": "code",
   "execution_count": 10,
   "id": "ee355610",
   "metadata": {
    "ExecuteTime": {
     "end_time": "2022-07-26T20:01:20.270499Z",
     "start_time": "2022-07-26T20:01:20.259864Z"
    },
    "scrolled": true
   },
   "outputs": [
    {
     "data": {
      "text/plain": [
       "['__abstractmethods__',\n",
       " '__class__',\n",
       " '__delattr__',\n",
       " '__dict__',\n",
       " '__dir__',\n",
       " '__doc__',\n",
       " '__eq__',\n",
       " '__format__',\n",
       " '__ge__',\n",
       " '__getattribute__',\n",
       " '__getstate__',\n",
       " '__gt__',\n",
       " '__hash__',\n",
       " '__init__',\n",
       " '__init_subclass__',\n",
       " '__le__',\n",
       " '__lt__',\n",
       " '__module__',\n",
       " '__ne__',\n",
       " '__new__',\n",
       " '__reduce__',\n",
       " '__reduce_ex__',\n",
       " '__repr__',\n",
       " '__setattr__',\n",
       " '__setstate__',\n",
       " '__sizeof__',\n",
       " '__str__',\n",
       " '__subclasshook__',\n",
       " '__weakref__',\n",
       " '_abc_impl',\n",
       " '_check_feature_names',\n",
       " '_check_n_features',\n",
       " '_estimator_type',\n",
       " '_get_param_names',\n",
       " '_get_tags',\n",
       " '_more_tags',\n",
       " '_repr_html_',\n",
       " '_repr_html_inner',\n",
       " '_repr_mimebundle_',\n",
       " '_required_parameters',\n",
       " '_validate_data',\n",
       " 'estimator',\n",
       " 'estimators_',\n",
       " 'fit',\n",
       " 'get_params',\n",
       " 'n_features_in_',\n",
       " 'n_jobs',\n",
       " 'partial_fit',\n",
       " 'predict',\n",
       " 'score',\n",
       " 'set_params']"
      ]
     },
     "execution_count": 10,
     "metadata": {},
     "output_type": "execute_result"
    }
   ],
   "source": [
    "dir(wrapper)"
   ]
  },
  {
   "cell_type": "code",
   "execution_count": 11,
   "id": "49823cd4",
   "metadata": {
    "ExecuteTime": {
     "end_time": "2022-07-26T20:01:39.874783Z",
     "start_time": "2022-07-26T20:01:39.870674Z"
    }
   },
   "outputs": [
    {
     "data": {
      "text/plain": [
       "[LinearSVR(), LinearSVR()]"
      ]
     },
     "execution_count": 11,
     "metadata": {},
     "output_type": "execute_result"
    }
   ],
   "source": [
    "# Get the two independent regressors\n",
    "wrapper.estimators_"
   ]
  },
  {
   "cell_type": "markdown",
   "id": "147f6c8f",
   "metadata": {},
   "source": [
    "## Chained multioutput"
   ]
  },
  {
   "cell_type": "code",
   "execution_count": 14,
   "id": "481aa241",
   "metadata": {
    "ExecuteTime": {
     "end_time": "2022-07-26T20:04:12.713820Z",
     "start_time": "2022-07-26T20:04:12.638340Z"
    }
   },
   "outputs": [
    {
     "name": "stdout",
     "output_type": "stream",
     "text": [
      "Predicted: [50.03218906 64.45419582]\n"
     ]
    },
    {
     "name": "stderr",
     "output_type": "stream",
     "text": [
      "/opt/anaconda3/envs/trainingAI/lib/python3.9/site-packages/sklearn/svm/_base.py:1206: ConvergenceWarning: Liblinear failed to converge, increase the number of iterations.\n",
      "  warnings.warn(\n"
     ]
    }
   ],
   "source": [
    "# define base model\n",
    "model = LinearSVR()\n",
    "\n",
    "# define the chained multioutput wrapper model\n",
    "wrapper = RegressorChain(model)\n",
    "\n",
    "\n",
    "# fit the model on the whole dataset\n",
    "wrapper.fit(X, y)\n",
    "\n",
    "# make a single prediction\n",
    "row = [0.21947749, 0.32948997, 0.81560036, 0.440956, -0.0606303, -\n",
    "       0.29257894, -0.2820059, -0.00290545, 0.96402263, 0.04992249]\n",
    "\n",
    "yhat = wrapper.predict([row])\n",
    "\n",
    "# summarize the prediction\n",
    "print('Predicted: %s' % yhat[0])"
   ]
  },
  {
   "cell_type": "code",
   "execution_count": 15,
   "id": "9b5aba4c",
   "metadata": {
    "ExecuteTime": {
     "end_time": "2022-07-26T20:05:52.546948Z",
     "start_time": "2022-07-26T20:05:52.542686Z"
    }
   },
   "outputs": [
    {
     "data": {
      "text/plain": [
       "[LinearSVR(), LinearSVR()]"
      ]
     },
     "execution_count": 15,
     "metadata": {},
     "output_type": "execute_result"
    }
   ],
   "source": [
    "wrapper.estimators_"
   ]
  },
  {
   "cell_type": "markdown",
   "id": "55f0a661",
   "metadata": {},
   "source": [
    "# References\n",
    "<hr style = \"border:2px solid black\" ></hr>"
   ]
  },
  {
   "cell_type": "markdown",
   "id": "2fd4dc7e",
   "metadata": {},
   "source": [
    "<div class=\"alert alert-warning\">\n",
    "<font color=black>\n",
    "\n",
    "- [How to Develop Multi-Output Regression Models with Python](https://machinelearningmastery.com/multi-output-regression-models-with-python/)\n",
    "\n",
    "</font>\n",
    "</div>"
   ]
  }
 ],
 "metadata": {
  "kernelspec": {
   "display_name": "trainingAI",
   "language": "python",
   "name": "trainingai"
  },
  "language_info": {
   "codemirror_mode": {
    "name": "ipython",
    "version": 3
   },
   "file_extension": ".py",
   "mimetype": "text/x-python",
   "name": "python",
   "nbconvert_exporter": "python",
   "pygments_lexer": "ipython3",
   "version": "3.9.7"
  },
  "toc": {
   "base_numbering": 1,
   "nav_menu": {},
   "number_sections": true,
   "sideBar": true,
   "skip_h1_title": false,
   "title_cell": "Table of Contents",
   "title_sidebar": "Contents",
   "toc_cell": false,
   "toc_position": {},
   "toc_section_display": true,
   "toc_window_display": true
  },
  "varInspector": {
   "cols": {
    "lenName": 16,
    "lenType": 16,
    "lenVar": 40
   },
   "kernels_config": {
    "python": {
     "delete_cmd_postfix": "",
     "delete_cmd_prefix": "del ",
     "library": "var_list.py",
     "varRefreshCmd": "print(var_dic_list())"
    },
    "r": {
     "delete_cmd_postfix": ") ",
     "delete_cmd_prefix": "rm(",
     "library": "var_list.r",
     "varRefreshCmd": "cat(var_dic_list()) "
    }
   },
   "types_to_exclude": [
    "module",
    "function",
    "builtin_function_or_method",
    "instance",
    "_Feature"
   ],
   "window_display": false
  }
 },
 "nbformat": 4,
 "nbformat_minor": 5
}
