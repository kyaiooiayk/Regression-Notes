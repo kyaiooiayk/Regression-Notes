{
 "cells": [
  {
   "cell_type": "markdown",
   "id": "76cfd087",
   "metadata": {},
   "source": [
    "# Introduction\n",
    "<hr style = \"border:2px solid black\" ></hr>"
   ]
  },
  {
   "cell_type": "markdown",
   "id": "0c5e7e5c",
   "metadata": {},
   "source": [
    "<div class=\"alert alert-warning\">\n",
    "<font color=black>\n",
    "\n",
    "**What?** True multioutput regression\n",
    "\n",
    "</font>\n",
    "</div>"
   ]
  },
  {
   "cell_type": "markdown",
   "id": "4ed98ab1",
   "metadata": {},
   "source": [
    "# Imports\n",
    "<hr style = \"border:2px solid black\" ></hr>"
   ]
  },
  {
   "cell_type": "code",
   "execution_count": 3,
   "id": "994d122d",
   "metadata": {
    "ExecuteTime": {
     "end_time": "2022-07-26T13:47:56.231743Z",
     "start_time": "2022-07-26T13:47:49.054159Z"
    }
   },
   "outputs": [],
   "source": [
    "from sklearn.datasets import make_regression\n",
    "from numpy import mean\n",
    "from numpy import std\n",
    "from sklearn.datasets import make_regression\n",
    "from sklearn.model_selection import RepeatedKFold\n",
    "from keras.models import Sequential\n",
    "from keras.layers import Dense"
   ]
  },
  {
   "cell_type": "markdown",
   "id": "b0f7b674",
   "metadata": {},
   "source": [
    "# Theoretical recalls\n",
    "<hr style = \"border:2px solid black\" ></hr>"
   ]
  },
  {
   "cell_type": "markdown",
   "id": "f5fb8061",
   "metadata": {},
   "source": [
    "<div class=\"alert alert-info\">\n",
    "<font color=black>\n",
    "\n",
    "- Many of the libraries offering tree-based regression model do have some sort multi-output capabilities.\n",
    "- One of thing that is not clearly stated, in some cases, is that these API fit one model per output.\n",
    "- Quoting from XGBoost: `Internally, XGBoost builds one model for each target similar to sklearn meta estimators, with the added benefit of reusing data and other integrated features like SHAP` \n",
    "- Quoting from ScikitLearn: `This strategy consists of fitting one regressor per target. This is a simple strategy for extending regressors that do not natively support multi-target regression.`\n",
    "- **However**, to tell the whole story there is something called regressor chain which is able to explore correlations btw outputs. See the references for more.\n",
    "- What if the we want to model a single model capable to fit more than one output? In this case we'll have to rely on NN which supports this natively.\n",
    "- Multi-output regression can be supported directly by neural networks simply by specifying the number of target variables there are in the problem as the number of nodes in the output layer. \n",
    "- A task that has three output variables will require a neural network output layer with three nodes in the output layer, each with the linear (default) activation function.\n",
    "    \n",
    "</font>\n",
    "</div>"
   ]
  },
  {
   "cell_type": "markdown",
   "id": "5133c774",
   "metadata": {},
   "source": [
    "# Create some synthetic data\n",
    "<hr style = \"border:2px solid black\" ></hr>"
   ]
  },
  {
   "cell_type": "code",
   "execution_count": 2,
   "id": "55ba87b5",
   "metadata": {
    "ExecuteTime": {
     "end_time": "2022-07-26T13:45:22.442870Z",
     "start_time": "2022-07-26T13:45:22.437565Z"
    }
   },
   "outputs": [
    {
     "name": "stdout",
     "output_type": "stream",
     "text": [
      "(1000, 10) (1000, 3)\n"
     ]
    }
   ],
   "source": [
    "# create dataset\n",
    "X, y = make_regression(n_samples=1000, n_features=10,\n",
    "                       n_informative=5, n_targets=3, random_state=2)\n",
    "# summarize shape\n",
    "print(X.shape, y.shape)"
   ]
  },
  {
   "cell_type": "code",
   "execution_count": 4,
   "id": "603a5285",
   "metadata": {
    "ExecuteTime": {
     "end_time": "2022-07-26T13:48:57.826326Z",
     "start_time": "2022-07-26T13:48:57.823327Z"
    }
   },
   "outputs": [],
   "source": [
    "def get_dataset():\n",
    "    X, y = make_regression(n_samples=1000, n_features=10,\n",
    "                           n_informative=5, n_targets=3, random_state=2)\n",
    "    return X, y"
   ]
  },
  {
   "cell_type": "markdown",
   "id": "d73adaef",
   "metadata": {},
   "source": [
    "# Create the model\n",
    "<hr style = \"border:2px solid black\" ></hr>"
   ]
  },
  {
   "cell_type": "code",
   "execution_count": 8,
   "id": "b873f907",
   "metadata": {
    "ExecuteTime": {
     "end_time": "2022-07-26T13:50:54.823669Z",
     "start_time": "2022-07-26T13:50:54.820037Z"
    }
   },
   "outputs": [],
   "source": [
    "# get the model\n",
    "def get_model(n_inputs, n_outputs):\n",
    "    model = Sequential()\n",
    "    model.add(Dense(20, input_dim=n_inputs,\n",
    "              kernel_initializer='he_uniform', activation='relu'))\n",
    "    model.add(Dense(n_outputs))\n",
    "    model.compile(loss='mae', optimizer='adam')\n",
    "    return model"
   ]
  },
  {
   "cell_type": "markdown",
   "id": "0b6969c4",
   "metadata": {},
   "source": [
    "# CV\n",
    "<hr style = \"border:2px solid black\" ></hr>"
   ]
  },
  {
   "cell_type": "code",
   "execution_count": 9,
   "id": "4350069d",
   "metadata": {
    "ExecuteTime": {
     "end_time": "2022-07-26T13:50:55.451899Z",
     "start_time": "2022-07-26T13:50:55.446703Z"
    }
   },
   "outputs": [],
   "source": [
    "# evaluate a model using repeated k-fold cross-validation\n",
    "def evaluate_model(X, y):\n",
    "    results = list()\n",
    "    n_inputs, n_outputs = X.shape[1], y.shape[1]\n",
    "    # define evaluation procedure\n",
    "    cv = RepeatedKFold(n_splits=10, n_repeats=3, random_state=1)\n",
    "    # enumerate folds\n",
    "    for train_ix, test_ix in cv.split(X):\n",
    "        # prepare data\n",
    "        X_train, X_test = X[train_ix], X[test_ix]\n",
    "        y_train, y_test = y[train_ix], y[test_ix]\n",
    "        # define model\n",
    "        model = get_model(n_inputs, n_outputs)\n",
    "        # fit model\n",
    "        model.fit(X_train, y_train, verbose=0, epochs=100)\n",
    "        # evaluate model on test set\n",
    "        mae = model.evaluate(X_test, y_test, verbose=0)\n",
    "        # store result\n",
    "        print('>%.3f' % mae)\n",
    "        results.append(mae)\n",
    "    return results"
   ]
  },
  {
   "cell_type": "code",
   "execution_count": 10,
   "id": "6ec8ca0e",
   "metadata": {
    "ExecuteTime": {
     "end_time": "2022-07-26T13:52:08.563444Z",
     "start_time": "2022-07-26T13:50:55.873112Z"
    },
    "scrolled": true
   },
   "outputs": [
    {
     "name": "stderr",
     "output_type": "stream",
     "text": [
      "2022-07-26 14:50:55.880139: I tensorflow/core/platform/cpu_feature_guard.cc:151] This TensorFlow binary is optimized with oneAPI Deep Neural Network Library (oneDNN) to use the following CPU instructions in performance-critical operations:  AVX2 FMA\n",
      "To enable them in other operations, rebuild TensorFlow with the appropriate compiler flags.\n"
     ]
    },
    {
     "name": "stdout",
     "output_type": "stream",
     "text": [
      ">7.480\n",
      ">7.674\n",
      ">7.226\n",
      ">7.231\n",
      ">7.645\n",
      ">7.755\n",
      ">7.407\n",
      ">7.382\n",
      ">8.416\n",
      ">7.793\n",
      ">9.822\n",
      ">8.077\n",
      ">8.067\n",
      ">8.873\n",
      ">7.871\n",
      ">8.134\n",
      ">8.446\n",
      ">7.451\n",
      ">7.800\n",
      ">9.576\n",
      ">9.178\n",
      ">8.274\n",
      ">7.299\n",
      ">6.895\n",
      ">7.034\n",
      ">7.789\n",
      ">8.670\n",
      ">8.341\n",
      ">9.138\n",
      ">6.856\n",
      "MAE: 7.987 (0.757)\n"
     ]
    }
   ],
   "source": [
    "# load dataset\n",
    "X, y = get_dataset()\n",
    "# evaluate model\n",
    "results = evaluate_model(X, y)\n",
    "# summarize performance\n",
    "print('MAE: %.3f (%.3f)' % (mean(results), std(results)))"
   ]
  },
  {
   "cell_type": "markdown",
   "id": "ac3cfb10",
   "metadata": {},
   "source": [
    "# Test the model\n",
    "<hr style = \"border:2px solid black\" ></hr>"
   ]
  },
  {
   "cell_type": "markdown",
   "id": "b77480c2",
   "metadata": {},
   "source": [
    "<div class=\"alert alert-info\">\n",
    "<font color=black>\n",
    "\n",
    "- Once a model configuration is chosen, we can use it to fit a final model **on all available** data and make a prediction for new data.\n",
    "- We can do this because we have already established the model is **not overfitting**.\n",
    "\n",
    "</font>\n",
    "</div>"
   ]
  },
  {
   "cell_type": "code",
   "execution_count": 12,
   "id": "f814fb31",
   "metadata": {
    "ExecuteTime": {
     "end_time": "2022-07-26T13:55:04.526279Z",
     "start_time": "2022-07-26T13:55:01.936386Z"
    }
   },
   "outputs": [
    {
     "name": "stdout",
     "output_type": "stream",
     "text": [
      "Predicted: [-147.002    -73.88907  -94.83123]\n"
     ]
    }
   ],
   "source": [
    "# load dataset\n",
    "X, y = get_dataset()\n",
    "n_inputs, n_outputs = X.shape[1], y.shape[1]\n",
    "# get model\n",
    "model = get_model(n_inputs, n_outputs)\n",
    "# fit the model on all data\n",
    "model.fit(X, y, verbose=0, epochs=100)\n",
    "# make a prediction for new data\n",
    "row = [-0.99859353, 2.19284309, -0.42632569, -0.21043258, -1.13655612, -\n",
    "       0.55671602, -0.63169045, -0.87625098, -0.99445578, -0.3677487]\n",
    "newX = np.asarray([row])\n",
    "yhat = model.predict(newX)\n",
    "print('Predicted: %s' % yhat[0])"
   ]
  },
  {
   "cell_type": "markdown",
   "id": "04e22655",
   "metadata": {},
   "source": [
    "# References\n",
    "<hr style = \"border:2px solid black\" ></hr>"
   ]
  },
  {
   "cell_type": "markdown",
   "id": "6b996260",
   "metadata": {},
   "source": [
    "<div class=\"alert alert-warning\">\n",
    "<font color=black>\n",
    "\n",
    "- [Deep Learning Models for Multi-Output Regression](https://machinelearningmastery.com/deep-learning-models-for-multi-output-regression/)\n",
    "- [XGBoost and multioutput](https://xgboost.readthedocs.io/en/stable/tutorials/multioutput.html)\n",
    "- [Scikit and multioutput](https://scikit-learn.org/stable/modules/generated/sklearn.multioutput.MultiOutputRegressor.html)\n",
    "- [sklearn.multioutput.RegressorChain¶](https://scikit-learn.org/stable/modules/generated/sklearn.multioutput.RegressorChain.html)\n",
    "\n",
    "</font>\n",
    "</div>"
   ]
  }
 ],
 "metadata": {
  "kernelspec": {
   "display_name": "trainingAI",
   "language": "python",
   "name": "trainingai"
  },
  "language_info": {
   "codemirror_mode": {
    "name": "ipython",
    "version": 3
   },
   "file_extension": ".py",
   "mimetype": "text/x-python",
   "name": "python",
   "nbconvert_exporter": "python",
   "pygments_lexer": "ipython3",
   "version": "3.9.7"
  },
  "toc": {
   "base_numbering": 1,
   "nav_menu": {},
   "number_sections": true,
   "sideBar": true,
   "skip_h1_title": false,
   "title_cell": "Table of Contents",
   "title_sidebar": "Contents",
   "toc_cell": false,
   "toc_position": {},
   "toc_section_display": true,
   "toc_window_display": true
  },
  "varInspector": {
   "cols": {
    "lenName": 16,
    "lenType": 16,
    "lenVar": 40
   },
   "kernels_config": {
    "python": {
     "delete_cmd_postfix": "",
     "delete_cmd_prefix": "del ",
     "library": "var_list.py",
     "varRefreshCmd": "print(var_dic_list())"
    },
    "r": {
     "delete_cmd_postfix": ") ",
     "delete_cmd_prefix": "rm(",
     "library": "var_list.r",
     "varRefreshCmd": "cat(var_dic_list()) "
    }
   },
   "types_to_exclude": [
    "module",
    "function",
    "builtin_function_or_method",
    "instance",
    "_Feature"
   ],
   "window_display": false
  }
 },
 "nbformat": 4,
 "nbformat_minor": 5
}
