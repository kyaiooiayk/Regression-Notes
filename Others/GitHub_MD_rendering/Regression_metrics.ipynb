{
 "cells": [
  {
   "cell_type": "markdown",
   "metadata": {},
   "source": [
    "# Introduction "
   ]
  },
  {
   "cell_type": "markdown",
   "metadata": {},
   "source": [
    "\n",
    "- **Regression metrics**\n",
    "\n",
""   ]
  },
  {
   "cell_type": "markdown",
   "metadata": {},
   "source": [
    "# Import modules"
   ]
  },
  {
   "cell_type": "code",
   "execution_count": 3,
   "metadata": {},
   "outputs": [],
   "source": [
    "import numpy as np\n",
    "from pandas import read_csv\n",
    "from sklearn.model_selection import KFold\n",
    "from IPython.display import Markdown, display\n",
    "from sklearn.model_selection import cross_val_score, cross_validate\n",
    "from sklearn.linear_model import LinearRegression"
   ]
  },
  {
   "cell_type": "markdown",
   "metadata": {},
   "source": [
    "# Read-in the data"
   ]
  },
  {
   "cell_type": "code",
   "execution_count": 4,
   "metadata": {},
   "outputs": [
    {
     "name": "stdout",
     "output_type": "stream",
     "text": [
      "Inputs shape:  (506, 13)\n",
      "Labels shape (506,)\n"
     ]
    }
   ],
   "source": [
    "'''names = ['CRIM', 'ZN', 'INDUS', 'CHAS', 'NOX', 'RM', 'AGE', 'DIS', 'RAD', 'TAX', 'PTRATIO',\n",
    "'B', 'LSTAT', 'MEDV']\n",
    "dataframe = read_csv(filename, delim_whitespace=True, names=names) \n",
    "array = dataframe.values\n",
    "X = array[:,0:13]\n",
    "Y = array[:,13]\n",
    "print(\"Data shape: \", dataframe.shape)\n",
    "print(\"Labels shape: \", Y.shape)\n",
    "print(array)'''\n",
    "\n",
    "from sklearn.datasets import load_boston\n",
    "X, Y = load_boston(return_X_y = True)\n",
    "Y = np.array(Y)\n",
    "print(\"Inputs shape: \", X.shape)\n",
    "print(\"Labels shape\", Y.shape)"
   ]
  },
  {
   "cell_type": "markdown",
   "metadata": {},
   "source": [
    "# MEAN ABSOLUTE ERROR"
   ]
  },
  {
   "cell_type": "code",
   "execution_count": null,
   "metadata": {},
   "outputs": [],
   "source": [
    "\"\"\"\n",
    "The Mean Absolute Error (or MAE) is the sum of the absolute differences between\n",
    "predictions and actual values. It gives an idea of how wrong the predictions were. \n",
    "The measure gives an idea of the magnitude of the error, but no idea of the direction\n",
    "(e.g. over or under predicting).\n",
    "\"\"\""
   ]
  },
  {
   "cell_type": "code",
   "execution_count": 5,
   "metadata": {},
   "outputs": [
    {
     "name": "stdout",
     "output_type": "stream",
     "text": [
      "MAE:  -3.3870077451158886  with standard deviation of:  0.6666977115119672\n"
     ]
    }
   ],
   "source": [
    "kfold = KFold(n_splits=10, shuffle = True, random_state=7)\n",
    "model = LinearRegression()\n",
    "results = cross_val_score(model, X, Y, cv=kfold, scoring = 'neg_mean_absolute_error')\n",
    "print(\"MAE: \",  results.mean(), \" with standard deviation of: \",  results.std())"
   ]
  },
  {
   "cell_type": "markdown",
   "metadata": {},
   "source": [
    "# MEAN SQUARED ERROR"
   ]
  },
  {
   "cell_type": "code",
   "execution_count": null,
   "metadata": {},
   "outputs": [],
   "source": [
    "\"\"\"\n",
    "The Mean Squared Error (or MSE) is much like the mean absolute error in that\n",
    "it provides a gross idea of the magnitude of error. Taking the square root of\n",
    "the mean squared error converts the units back to the original units of the \n",
    "output variable and can be meaningful for description and presentation.\n",
    "\"\"\""
   ]
  },
  {
   "cell_type": "code",
   "execution_count": 6,
   "metadata": {},
   "outputs": [
    {
     "name": "stdout",
     "output_type": "stream",
     "text": [
      "MSE:  -23.746501811313365  with standard deviation of:  11.143430110698096\n"
     ]
    }
   ],
   "source": [
    "kfold = KFold(n_splits=10, shuffle = True, random_state=7)\n",
    "model = LinearRegression()\n",
    "results = cross_val_score(model, X, Y, cv=kfold, scoring = 'neg_mean_squared_error') \n",
    "print(\"MSE: \",  results.mean(), \" with standard deviation of: \",  results.std())"
   ]
  },
  {
   "cell_type": "markdown",
   "metadata": {},
   "source": [
    "# R2 METRIC"
   ]
  },
  {
   "cell_type": "code",
   "execution_count": null,
   "metadata": {},
   "outputs": [],
   "source": [
    "\"\"\"\n",
    "The R2 (or R Squared) metric provides an indication of the goodness of fit \n",
    "of a set of predictions to the actual values. In statistical literature this\n",
    "measure is called the coefficient of determination. This is a value between \n",
    "0 and 1 for no-fit and perfect fit respectively.\n",
    "\"\"\""
   ]
  },
  {
   "cell_type": "code",
   "execution_count": 7,
   "metadata": {},
   "outputs": [
    {
     "name": "stdout",
     "output_type": "stream",
     "text": [
      "MSE:  0.7181683241114103  with standard deviation of:  0.09866585171842626\n"
     ]
    }
   ],
   "source": [
    "results = cross_val_score(model, X, Y, cv=kfold, scoring='r2')\n",
    "print(\"MSE: \",  results.mean(), \" with standard deviation of: \",  results.std())"
   ]
  },
  {
   "cell_type": "markdown",
   "metadata": {},
   "source": [
    "# Getting multiple scores at the same time"
   ]
  },
  {
   "cell_type": "markdown",
   "metadata": {},
   "source": [
    "\n",
    "- What if we want to get two score at the same time?\n",
    "- Running two CVs is not efficient and scikilearn offer an alternative:\n",
    "    - `cross_val_score` accepts only *1* score at the time\n",
    "    - `cross_validate` accepts *more* than score at the time\n",
    "\n",
""   ]
  },
  {
   "cell_type": "code",
   "execution_count": 9,
   "metadata": {},
   "outputs": [],
   "source": [
    "result = cross_validate(model, X, Y, scoring=[\n",
    "    \"neg_mean_squared_error\", \"r2\"], n_jobs=-1, return_train_score=True)"
   ]
  },
  {
   "cell_type": "code",
   "execution_count": 10,
   "metadata": {},
   "outputs": [
    {
     "data": {
      "text/plain": [
       "{'fit_time': array([0.00199413, 0.00197506, 0.0018239 , 0.0020647 , 0.00152826]),\n",
       " 'score_time': array([0.00137496, 0.00121808, 0.00131679, 0.00129914, 0.00085592]),\n",
       " 'test_neg_mean_squared_error': array([-12.46030057, -26.04862111, -33.07413798, -80.76237112,\n",
       "        -33.31360656]),\n",
       " 'train_neg_mean_squared_error': array([-24.5892302 , -22.24092194, -21.19051839, -12.91756328,\n",
       "        -22.73718934]),\n",
       " 'test_r2': array([ 0.63919994,  0.71386698,  0.58702344,  0.07923081, -0.25294154]),\n",
       " 'train_r2': array([0.74652533, 0.72763185, 0.69498059, 0.84181027, 0.73545537])}"
      ]
     },
     "execution_count": 10,
     "metadata": {},
     "output_type": "execute_result"
    }
   ],
   "source": [
    "result"
   ]
  },
  {
   "cell_type": "markdown",
   "metadata": {},
   "source": [
    "# References"
   ]
  },
  {
   "cell_type": "markdown",
   "metadata": {},
   "source": [
    "\n",
    "- [cross_validate](https://scikit-learn.org/stable/modules/generated/sklearn.model_selection.cross_validate.html)\n",
    "\n",
""   ]
  },
  {
   "cell_type": "code",
   "execution_count": null,
   "metadata": {},
   "outputs": [],
   "source": []
  }
 ],
 "metadata": {
  "hide_input": false,
  "kernelspec": {
   "display_name": "trainingAI",
   "language": "python",
   "name": "trainingai"
  },
  "language_info": {
   "codemirror_mode": {
    "name": "ipython",
    "version": 3
   },
   "file_extension": ".py",
   "mimetype": "text/x-python",
   "name": "python",
   "nbconvert_exporter": "python",
   "pygments_lexer": "ipython3",
   "version": "3.8.5"
  }
 },
 "nbformat": 4,
 "nbformat_minor": 2
}
